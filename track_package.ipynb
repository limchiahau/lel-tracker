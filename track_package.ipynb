{
 "cells": [
  {
   "cell_type": "code",
   "execution_count": null,
   "metadata": {},
   "outputs": [],
   "source": [
    "import urllib.request as request\n",
    "from bs4 import BeautifulSoup\n",
    "import operator\n",
    "import time\n",
    "import os\n",
    "import datetime\n",
    "import sys\n",
    "import pathlib"
   ]
  },
  {
   "cell_type": "code",
   "execution_count": null,
   "metadata": {},
   "outputs": [],
   "source": [
    "TRACK_FILE = pathlib.Path('lel.track')"
   ]
  },
  {
   "cell_type": "code",
   "execution_count": null,
   "metadata": {},
   "outputs": [],
   "source": [
    "get_text = operator.methodcaller('get_text')"
   ]
  },
  {
   "cell_type": "code",
   "execution_count": null,
   "metadata": {},
   "outputs": [],
   "source": [
    "class Day:\n",
    "    def __init__(self, date, events):\n",
    "        self.date = date\n",
    "        self.events = events\n",
    "        \n",
    "    @classmethod\n",
    "    def from_soup(cls, soup):\n",
    "        date = soup.find(class_='trace__date')\n",
    "        date = cls.date_str(date)\n",
    "        \n",
    "        times = soup.find_all(class_ ='.trace__time')\n",
    "        times = map(get_text, times)\n",
    "        \n",
    "        actions = soup.find_all(class_='trace__event-value')\n",
    "        actions = map(get_text, actions)\n",
    "        \n",
    "        events = [Event(time,action) for time, action in zip(times,actions)]\n",
    "        \n",
    "        return cls(date,events)\n",
    "    \n",
    "    \n",
    "    def __str__(self):\n",
    "        output =  f'{self.date}\\n\\n'\n",
    "        output += '\\n'.join(map(str,self.events))\n",
    "        return output\n",
    "    \n",
    "    @staticmethod\n",
    "    def date_str(html_element):\n",
    "        remove_linebreak = operator.methodcaller('replace', '\\n', '')\n",
    "        remove_tab = operator.methodcaller('replace',' ','')\n",
    "\n",
    "        return remove_tab(remove_linebreak(get_text(html_element)))"
   ]
  },
  {
   "cell_type": "code",
   "execution_count": null,
   "metadata": {},
   "outputs": [],
   "source": [
    "class Event:\n",
    "    def __init__(self, time, action):\n",
    "        self.time = time\n",
    "        self.action = action\n",
    "        \n",
    "    def __str__(self):\n",
    "        return f'{self.time}: {self.action}'"
   ]
  },
  {
   "cell_type": "code",
   "execution_count": null,
   "metadata": {},
   "outputs": [],
   "source": [
    "def get_days(soup):\n",
    "    days = soup.find_all(class_='trace__date_row')\n",
    "    return map(Day.from_soup, days)"
   ]
  },
  {
   "cell_type": "code",
   "execution_count": null,
   "metadata": {},
   "outputs": [],
   "source": [
    "def minutes(n):\n",
    "    return 60 * n"
   ]
  },
  {
   "cell_type": "code",
   "execution_count": null,
   "metadata": {},
   "outputs": [],
   "source": [
    "def show_tracking_data(tracking_number):\n",
    "    req = request.Request(f'https://tracker.lel.asia/tracker?trackingNumber={tracking_number}&lang=en-US')\n",
    "    response = request.urlopen(req)\n",
    "    soup = BeautifulSoup(response,features='html.parser')\n",
    "    days = get_days(soup)\n",
    "\n",
    "    print('\\n\\n'.join(map(str,days)))"
   ]
  },
  {
   "cell_type": "code",
   "execution_count": null,
   "metadata": {},
   "outputs": [],
   "source": [
    "def main():\n",
    "    tracking_number = get_tracking_number()\n",
    "    \n",
    "    while True:\n",
    "        os.system('clear')\n",
    "    \n",
    "        print(f'Showing tracking data for: {tracking_number}\\n\\n\\n')\n",
    "        show_tracking_data(tracking_number)\n",
    "    \n",
    "        print('\\n\\n')\n",
    "        print(f'Updated: {datetime.datetime.now()}')\n",
    "    \n",
    "        time.sleep(minutes(5))    "
   ]
  },
  {
   "cell_type": "code",
   "execution_count": null,
   "metadata": {
    "scrolled": true
   },
   "outputs": [],
   "source": [
    "def get_tracking_number():\n",
    "    # passed in as an argument\n",
    "    try:\n",
    "        tracking_number = sys.argv[1] if '-f' not in sys.argv[1] else None #allow this script to be runned properly in jupyter.\n",
    "    except:\n",
    "        tracking_number = None\n",
    "    \n",
    "    #if there is a track file\n",
    "    if not tracking_number and TRACK_FILE.is_file():\n",
    "        #check if there is a tracking number in the track file\n",
    "        tracking_number = TRACK_FILE.read_text()\n",
    "    \n",
    "    #if there is an argument passed in to this script\n",
    "    #or there is a non-empty track file.\n",
    "    if not tracking_number:\n",
    "        #ask user for tracking number\n",
    "        tracking_number = input('Please provide a tracking number:\\n')\n",
    "    \n",
    "    return tracking_number"
   ]
  },
  {
   "cell_type": "code",
   "execution_count": null,
   "metadata": {},
   "outputs": [],
   "source": [
    "main()"
   ]
  },
  {
   "cell_type": "code",
   "execution_count": null,
   "metadata": {},
   "outputs": [],
   "source": []
  }
 ],
 "metadata": {
  "kernelspec": {
   "display_name": "Python 3",
   "language": "python",
   "name": "python3"
  },
  "language_info": {
   "codemirror_mode": {
    "name": "ipython",
    "version": 3
   },
   "file_extension": ".py",
   "mimetype": "text/x-python",
   "name": "python",
   "nbconvert_exporter": "python",
   "pygments_lexer": "ipython3",
   "version": "3.7.6"
  }
 },
 "nbformat": 4,
 "nbformat_minor": 4
}
